{
 "cells": [
  {
   "cell_type": "markdown",
   "metadata": {},
   "source": [
    "asic CoT Example: Math Problem\n",
    "We'll use a simple math problem:\n",
    "\n",
    "\"If a car travels at 60 km/h for 2.5 hours, how far does it travel?\""
   ]
  },
  {
   "cell_type": "code",
   "execution_count": 1,
   "metadata": {},
   "outputs": [
    {
     "name": "stdout",
     "output_type": "stream",
     "text": [
      "Step 1: Identify given values - Speed = 60 km/h, Time = 2.5 hours.\n",
      "Step 2: Use the formula Distance = Speed × Time.\n",
      "Step 3: Compute 60 × 2.5 = 150.0 km.\n",
      "Final Answer: The car travels 150.0 km.\n"
     ]
    }
   ],
   "source": [
    "def chain_of_thought_reasoning(problem):\n",
    "    steps = []\n",
    "    \n",
    "    # Step 1: Extract key values\n",
    "    steps.append(\"Step 1: Identify given values - Speed = 60 km/h, Time = 2.5 hours.\")\n",
    "    \n",
    "    # Step 2: Use the distance formula\n",
    "    steps.append(\"Step 2: Use the formula Distance = Speed × Time.\")\n",
    "    \n",
    "    # Step 3: Perform calculation\n",
    "    distance = 60 * 2.5\n",
    "    steps.append(f\"Step 3: Compute 60 × 2.5 = {distance} km.\")\n",
    "    \n",
    "    # Step 4: Conclusion\n",
    "    steps.append(f\"Final Answer: The car travels {distance} km.\")\n",
    "    \n",
    "    return \"\\n\".join(steps)\n",
    "\n",
    "# Run the function\n",
    "problem = \"If a car travels at 60 km/h for 2.5 hours, how far does it travel?\"\n",
    "result = chain_of_thought_reasoning(problem)\n",
    "print(result)\n"
   ]
  },
  {
   "cell_type": "code",
   "execution_count": null,
   "metadata": {},
   "outputs": [],
   "source": []
  }
 ],
 "metadata": {
  "kernelspec": {
   "display_name": "Python 3",
   "language": "python",
   "name": "python3"
  },
  "language_info": {
   "codemirror_mode": {
    "name": "ipython",
    "version": 3
   },
   "file_extension": ".py",
   "mimetype": "text/x-python",
   "name": "python",
   "nbconvert_exporter": "python",
   "pygments_lexer": "ipython3",
   "version": "3.11.9"
  }
 },
 "nbformat": 4,
 "nbformat_minor": 2
}
